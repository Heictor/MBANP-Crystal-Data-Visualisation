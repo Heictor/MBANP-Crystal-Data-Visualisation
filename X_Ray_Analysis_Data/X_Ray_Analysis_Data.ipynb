{
 "cells": [
  {
   "cell_type": "markdown",
   "source": [
    "<h6>Analysis of MBANP Crystal by X Ray Diffraction Data</h6>\n",
    "<h3>Importing libraries:</h3>\n",
    "The first step is to import the libraries needed on this project.</br>\n",
    "</p>"
   ],
   "metadata": {
    "collapsed": false
   }
  },
  {
   "cell_type": "code",
   "execution_count": 1,
   "outputs": [
    {
     "name": "stdout",
     "text": [
      "Libraries imported\n"
     ],
     "output_type": "stream"
    }
   ],
   "source": [
    "import sys #Used to show how much space each structure consume\n",
    "import numpy as np #Numpy is necessary to extract the data from the files and work with them as matrices\n",
    "import matplotlib.pyplot as plt #matplotlib and its dependencies are applied to the graph plotting\n",
    "from matplotlib import cm\n",
    "from mpl_toolkits.mplot3d import Axes3D\n",
    "import pandas as pd #Pandas is used to operate some tables format\n",
    "print(\"Libraries imported\")"
   ],
   "metadata": {
    "collapsed": false,
    "pycharm": {
     "name": "#%%\n",
     "is_executing": false
    }
   }
  },
  {
   "cell_type": "markdown",
   "source": [
    "<h3>Data extraction:</h3>\n",
    "The next step is to extract the data from the files.</br>\n",
    "On MBANP analysis using X ray, two types of data are generated, the ones pre-established, as Angles and Temperatures.\n",
    "And the ones that will be found only after we run the experiment, and these are the intensity values.\n",
    "Aiming at higher computational efficiency, this tool exctract the repetitive data of only one file.</br> \n",
    "</p>"
   ],
   "metadata": {
    "collapsed": false
   }
  },
  {
   "cell_type": "code",
   "execution_count": 2,
   "outputs": [
    {
     "name": "stdout",
     "text": [
      "Data successfully extracted: [[0.0000e+00 0.0000e+00]\n",
      " [4.0000e-03 0.0000e+00]\n",
      " [8.0000e-03 0.0000e+00]\n",
      " ...\n",
      " [8.8308e+01 0.0000e+00]\n",
      " [8.8312e+01 0.0000e+00]\n",
      " [8.8316e+01 0.0000e+00]]\n",
      "angles created: [0.0000e+00 4.0000e-03 8.0000e-03 ... 8.8308e+01 8.8312e+01 8.8316e+01]\n"
     ],
     "output_type": "stream"
    }
   ],
   "source": [
    "\"\"\"Creating \"datas\": A numpy array with the content extracted from the first file\"\"\"\n",
    "data = np.genfromtxt('MBANP_01001_summed.dat', delimiter=' ')\n",
    "print(\"Data successfully extracted:\", data)\n",
    "\"\"\"Creating \"angles\": An array with all the angles applied over the different scenarios(All Rows from the first column)\"\"\"\n",
    "angles = data[:, ][:, 0]\n",
    "print(\"angles created:\", angles)"
   ],
   "metadata": {
    "collapsed": false,
    "pycharm": {
     "name": "#%%\n",
     "is_executing": false
    }
   }
  },
  {
   "cell_type": "code",
   "execution_count": 3,
   "outputs": [
    {
     "name": "stdout",
     "text": [
      "MBANPL successfully created. All the necessary data was extracted.\n"
     ],
     "output_type": "stream"
    }
   ],
   "source": [
    "\"\"\"Manually load data from each MBANP.dat file\"\"\"\n",
    "MBANPL = [np.genfromtxt('MBANP_01001_summed.dat'), np.genfromtxt('MBANP_01002_summed.dat'),\n",
    "        np.genfromtxt('MBANP_01003_summed.dat'), np.genfromtxt('MBANP_01004_summed.dat'),\n",
    "        np.genfromtxt('MBANP_01005_summed.dat'), np.genfromtxt('MBANP_01006_summed.dat'),\n",
    "        np.genfromtxt('MBANP_01007_summed.dat'), np.genfromtxt('MBANP_01008_summed.dat'),\n",
    "        np.genfromtxt('MBANP_01009_summed.dat'), np.genfromtxt('MBANP_01010_summed.dat'),\n",
    "        np.genfromtxt('MBANP_01011_summed.dat'), np.genfromtxt('MBANP_01012_summed.dat'),\n",
    "        np.genfromtxt('MBANP_01013_summed.dat'), np.genfromtxt('MBANP_01014_summed.dat'),\n",
    "        np.genfromtxt('MBANP_01015_summed.dat'), np.genfromtxt('MBANP_01016_summed.dat'),\n",
    "        np.genfromtxt('MBANP_01017_summed.dat'), np.genfromtxt('MBANP_01018_summed.dat'),\n",
    "        np.genfromtxt('MBANP_01019_summed.dat'), np.genfromtxt('MBANP_01020_summed.dat'),\n",
    "        np.genfromtxt('MBANP_01021_summed.dat'), np.genfromtxt('MBANP_01022_summed.dat'),\n",
    "        np.genfromtxt('MBANP_01023_summed.dat'), np.genfromtxt('MBANP_01024_summed.dat'),\n",
    "        np.genfromtxt('MBANP_01025_summed.dat'), np.genfromtxt('MBANP_01026_summed.dat'),\n",
    "        np.genfromtxt('MBANP_01027_summed.dat'), np.genfromtxt('MBANP_01028_summed.dat'),\n",
    "        np.genfromtxt('MBANP_01029_summed.dat'), np.genfromtxt('MBANP_01030_summed.dat'),\n",
    "        np.genfromtxt('MBANP_01031_summed.dat'), np.genfromtxt('MBANP_01032_summed.dat'),\n",
    "        np.genfromtxt('MBANP_01033_summed.dat'), np.genfromtxt('MBANP_01034_summed.dat'),\n",
    "        np.genfromtxt('MBANP_01035_summed.dat'), np.genfromtxt('MBANP_01036_summed.dat'),\n",
    "        np.genfromtxt('MBANP_01037_summed.dat'), np.genfromtxt('MBANP_01038_summed.dat'),\n",
    "        np.genfromtxt('MBANP_01039_summed.dat'), np.genfromtxt('MBANP_01040_summed.dat'),\n",
    "        np.genfromtxt('MBANP_01041_summed.dat'), np.genfromtxt('MBANP_01042_summed.dat'),\n",
    "        np.genfromtxt('MBANP_01043_summed.dat'), np.genfromtxt('MBANP_01044_summed.dat'),\n",
    "        np.genfromtxt('MBANP_01045_summed.dat'), np.genfromtxt('MBANP_01046_summed.dat'),\n",
    "        np.genfromtxt('MBANP_01047_summed.dat'), np.genfromtxt('MBANP_01048_summed.dat'),\n",
    "        np.genfromtxt('MBANP_01049_summed.dat'), np.genfromtxt('MBANP_01050_summed.dat'),\n",
    "        np.genfromtxt('MBANP_01051_summed.dat'), np.genfromtxt('MBANP_01052_summed.dat'),\n",
    "        np.genfromtxt('MBANP_01053_summed.dat'), np.genfromtxt('MBANP_01054_summed.dat'),\n",
    "        np.genfromtxt('MBANP_01055_summed.dat')]\n",
    "print(\"MBANPL successfully created. All the necessary data was extracted.\")"
   ],
   "metadata": {
    "collapsed": false,
    "pycharm": {
     "name": "#%% \n",
     "is_executing": false
    }
   }
  },
  {
   "cell_type": "markdown",
   "source": [
    "<h3>Data organization:</h3>\n",
    "The next step is to use \"for loops\" to organize the data from the files (angle, temperature and intensity), each one as\n",
    "a coordinate to each point on the graphic. Then the coordinates are applied to the three dimensional cartesian plan.</br>\n",
    "</p>"
   ],
   "metadata": {
    "collapsed": false
   }
  },
  {
   "cell_type": "code",
   "execution_count": null,
   "outputs": [
    {
     "name": "stdout",
     "text": [
      "File Number  0 \n",
      " Temperature:  \n",
      " [39.4] \n",
      "\n",
      "File Number  1 \n",
      " Temperature:  \n",
      " [41.7] \n",
      "\n",
      "File Number  2 \n",
      " Temperature:  \n",
      " [44.3] \n",
      "\n",
      "File Number  3 \n",
      " Temperature:  \n",
      " [45.6] \n",
      "\n",
      "File Number  4 \n",
      " Temperature:  \n",
      " [46.2] \n",
      "\n",
      "File Number  5 \n",
      " Temperature:  \n",
      " [47.6] \n",
      "\n",
      "File Number  6 \n",
      " Temperature:  \n",
      " [49.3] \n",
      "\n",
      "File Number  7 \n",
      " Temperature:  \n",
      " [50.6] \n",
      "\n",
      "File Number  8 \n",
      " Temperature:  \n",
      " [51.5] \n",
      "\n",
      "File Number  9 \n",
      " Temperature:  \n",
      " [52.1] \n",
      "\n",
      "File Number  10 \n",
      " Temperature:  \n",
      " [54.1] \n",
      "\n",
      "File Number  11 \n",
      " Temperature:  \n",
      " [55.7] \n",
      "\n",
      "File Number  12 \n",
      " Temperature:  \n",
      " [57.] \n",
      "\n",
      "File Number  13 \n",
      " Temperature:  \n",
      " [58.1] \n",
      "\n",
      "File Number  14 \n",
      " Temperature:  \n",
      " [59.3] \n",
      "\n",
      "File Number  15 \n",
      " Temperature:  \n",
      " [60.5] \n",
      "\n",
      "File Number  16 \n",
      " Temperature:  \n",
      " [61.7] \n",
      "\n",
      "File Number  17 \n",
      " Temperature:  \n",
      " [63.1] \n",
      "\n",
      "File Number  18 \n",
      " Temperature:  \n",
      " [64.2] \n",
      "\n",
      "File Number  19 \n",
      " Temperature:  \n",
      " [65.1] \n",
      "\n",
      "File Number  20 \n",
      " Temperature:  \n",
      " [66.4] \n",
      "\n",
      "File Number  21 \n",
      " Temperature:  \n",
      " [67.6] \n",
      "\n",
      "File Number  22 \n",
      " Temperature:  \n",
      " [69.4] \n",
      "\n",
      "File Number  23 \n",
      " Temperature:  \n",
      " [70.8] \n",
      "\n",
      "File Number  24 \n",
      " Temperature:  \n",
      " [71.6] \n",
      "\n",
      "File Number  25 \n",
      " Temperature:  \n",
      " [73.] \n",
      "\n",
      "File Number  26 \n",
      " Temperature:  \n",
      " [74.] \n",
      "\n",
      "File Number  27 \n",
      " Temperature:  \n",
      " [75.3] \n",
      "\n",
      "File Number  28 \n",
      " Temperature:  \n",
      " [76.8] \n",
      "\n",
      "File Number  29 \n",
      " Temperature:  \n",
      " [78.1] \n",
      "\n",
      "File Number  30 \n",
      " Temperature:  \n",
      " [79.3] \n",
      "\n",
      "File Number  31 \n",
      " Temperature:  \n",
      " [80.5] \n",
      "\n",
      "File Number  32 \n",
      " Temperature:  \n",
      " [81.8] \n",
      "\n",
      "File Number  33 \n",
      " Temperature:  \n",
      " [83.1] \n",
      "\n",
      "File Number  34 \n",
      " Temperature:  \n",
      " [84.4] \n",
      "\n",
      "File Number  35 \n",
      " Temperature:  \n",
      " [85.7] \n",
      "\n",
      "File Number  36 \n",
      " Temperature:  \n",
      " [86.8] \n",
      "\n",
      "File Number  37 \n",
      " Temperature:  \n",
      " [88.2] \n",
      "\n",
      "File Number  38 \n",
      " Temperature:  \n",
      " [89.3] \n",
      "\n"
     ],
     "output_type": "stream"
    }
   ],
   "source": [
    "%matplotlib inline\n",
    "intensitiesL = [] #Declare new empty list\n",
    "temperaturesL = [] #Declare new empty list\n",
    "ax = plt.figure().gca(projection='3d')\n",
    "for x in range(len(MBANPL)): #For Loop to every MBANP file\n",
    "\n",
    "    datas = MBANPL[x] #Atribute content from current file to \"datas\" variable\n",
    "    inten = datas[:, ][:, 1] #Atribute values from second column to \"inten\" variable\n",
    "    intensitiesL.append(inten) #Take every current value from \"inten\" and turn into a List\n",
    "    newIntensity = intensitiesL[x]\n",
    "    \n",
    "    dataTemp = np.genfromtxt('temperaturas.dat') #Load data from file\n",
    "    temp = dataTemp[:, ] #Extract only the first column from \"dataTemp\"\n",
    "    newTemp = pd.DataFrame(data=temp).to_numpy() #Convert array into NumpyArray\n",
    "\n",
    "    \"\"\"Interpolation of Temperature data using For Loop\"\"\"\n",
    "    for i in range(len(intensitiesL)): \n",
    "        n = newTemp[x]\n",
    "        temperaturesL.append(n)\n",
    "        p = np.asarray(temperaturesL)\n",
    "    print(\"File Number \", x, \"\\n\", \"Temperature: \", \"\\n\", n, \"\\n\")\n",
    "    # Plot the surface\n",
    "    ax.plot_surface(angles, newIntensity, p, cmap=cm.coolwarm, linewidth=0, antialiased=False)\n",
    "    ax.view_init(60, 10)\n",
    "plt.savefig(\"3DGRAPH.png\", dpi=200 )\n",
    "plt.savefig(\"3DGRAPH.pdf\")\n",
    "plt.show()"
   ],
   "metadata": {
    "collapsed": false,
    "pycharm": {
     "name": "#%%\n",
     "is_executing": true
    }
   }
  },
  {
   "cell_type": "markdown",
   "source": [
    "<h3>Data information:</h3>\n",
    "After the graphic gets done, the program will show how much space each structure of the program is consuming.</br>\n",
    "</p>"
   ],
   "metadata": {
    "collapsed": false
   }
  },
  {
   "cell_type": "code",
   "execution_count": null,
   "outputs": [],
   "source": [
    "print(\"Size of MBANPL:\",sys.getsizeof(MBANPL),\" bytes\")\n",
    "print(\"Size of angles:\",sys.getsizeof(angles),\" bytes\")\n",
    "print(\"Size of dataTemp:\",sys.getsizeof(dataTemp),\" bytes\")\n",
    "print(\"Size of datas:\",sys.getsizeof(datas),\" bytes\")\n",
    "print(\"Size of inten:\",sys.getsizeof(inten),\" bytes\")\n",
    "print(\"Size of intensitiesL:\",sys.getsizeof(intensitiesL),\" bytes\")\n",
    "print(\"Size of n:\",sys.getsizeof(n),\" bytes\")\n",
    "print(\"Size of newIntensity:\",sys.getsizeof(newIntensity),\" bytes\")\n",
    "print(\"Size of newTemp:\",sys.getsizeof(newTemp),\" bytes\")\n",
    "print(\"Size of p:\",sys.getsizeof(p),\" bytes\")\n",
    "print(\"Size of temperaturesL:\",sys.getsizeof(temperaturesL),\" bytes\")\n",
    "print(\"Size of temp:\",sys.getsizeof(temp),\" bytes\")\n",
    "print(\"Size of data:\",sys.getsizeof(data),\" bytes\")\n"
   ],
   "metadata": {
    "collapsed": false,
    "pycharm": {
     "name": "#%%\n",
     "is_executing": true
    }
   }
  }
 ],
 "metadata": {
  "kernelspec": {
   "name": "pycharm-7e57dc76",
   "language": "python",
   "display_name": "PyCharm (MBANP-Crystal-Data-Visualisation)"
  },
  "language_info": {
   "codemirror_mode": {
    "name": "ipython",
    "version": 2
   },
   "file_extension": ".py",
   "mimetype": "text/x-python",
   "name": "python",
   "nbconvert_exporter": "python",
   "pygments_lexer": "ipython2",
   "version": "2.7.6"
  },
  "pycharm": {
   "stem_cell": {
    "cell_type": "raw",
    "source": [],
    "metadata": {
     "collapsed": false
    }
   }
  }
 },
 "nbformat": 4,
 "nbformat_minor": 0
}